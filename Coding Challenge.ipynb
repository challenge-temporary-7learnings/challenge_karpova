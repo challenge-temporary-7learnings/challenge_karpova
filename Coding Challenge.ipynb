{
 "cells": [
  {
   "cell_type": "code",
   "metadata": {
    "ExecuteTime": {
     "end_time": "2025-05-20T13:05:26.372651Z",
     "start_time": "2025-05-20T13:05:26.367351Z"
    }
   },
   "source": "%load_ext bigquery_magics",
   "outputs": [
    {
     "name": "stdout",
     "output_type": "stream",
     "text": [
      "The bigquery_magics extension is already loaded. To reload it, use:\n",
      "  %reload_ext bigquery_magics\n"
     ]
    }
   ],
   "execution_count": 42
  },
  {
   "cell_type": "markdown",
   "metadata": {},
   "source": "# \"Will it snow tomorrow?\" - The time traveler asked\n"
  },
  {
   "metadata": {},
   "cell_type": "code",
   "source": [
    "%%bigquery\n",
    "SELECT\n",
    "*,\n",
    "FROM `bigquery-public-data.samples.gsod`\n",
    "LIMIT 20\n",
    "\n",
    "# That was a test run"
   ],
   "execution_count": 43,
   "outputs": [
    {
     "data": {
      "text/plain": [
       "Query is running:   0%|          |"
      ],
      "application/vnd.jupyter.widget-view+json": {
       "version_major": 2,
       "version_minor": 0,
       "model_id": "165c8c486d5b473fbe27cb22d98cb62b"
      },
      "application/json": {
       "n": 0,
       "total": 1,
       "elapsed": 0.006679534912109375,
       "ncols": null,
       "nrows": null,
       "prefix": "Query is running",
       "ascii": false,
       "unit": "query",
       "unit_scale": false,
       "rate": null,
       "bar_format": "{l_bar}{bar}|",
       "postfix": null,
       "unit_divisor": 1000,
       "initial": 0,
       "colour": null
      }
     },
     "metadata": {},
     "output_type": "display_data"
    },
    {
     "data": {
      "text/plain": [
       "Downloading:   0%|          |"
      ],
      "application/vnd.jupyter.widget-view+json": {
       "version_major": 2,
       "version_minor": 0,
       "model_id": "47133932a7a84eabbf0457b8984d23b4"
      },
      "application/json": {
       "n": 0,
       "total": 20,
       "elapsed": 0.004937410354614258,
       "ncols": null,
       "nrows": null,
       "prefix": "Downloading",
       "ascii": false,
       "unit": "rows",
       "unit_scale": false,
       "rate": null,
       "bar_format": "{l_bar}{bar}|",
       "postfix": null,
       "unit_divisor": 1000,
       "initial": 0,
       "colour": null
      }
     },
     "metadata": {},
     "output_type": "display_data"
    },
    {
     "data": {
      "text/plain": [
       "    station_number  wban_number  year  month  day  mean_temp  \\\n",
       "0            39800        99999  1929     11   13  41.299999   \n",
       "1            33110        99999  1929     12   16  45.500000   \n",
       "2            37770        99999  1929     12    8  48.000000   \n",
       "3            38560        99999  1929     11   13  44.500000   \n",
       "4            33110        99999  1929     12   15  46.700001   \n",
       "5            30910        99999  1929     10    6  50.000000   \n",
       "6            33110        99999  1929     10    1  53.299999   \n",
       "7            39730        99999  1929     11    4  54.000000   \n",
       "8            38110        99999  1929     11   18  43.500000   \n",
       "9            39530        99999  1929     10   23  54.000000   \n",
       "10           33790        99999  1929     10   21  46.799999   \n",
       "11           38940        99999  1929     10   19  50.200001   \n",
       "12           34970        99999  1929      8    5  58.799999   \n",
       "13           38040        99999  1929     11   19  54.000000   \n",
       "14           34970        99999  1929     10   13  53.200001   \n",
       "15           38040        99999  1929     12   27  47.200001   \n",
       "16           32620        99999  1929     12   31  38.200001   \n",
       "17           30750        99999  1930     10    6  46.500000   \n",
       "18           39800        99999  1930      7   27  57.500000   \n",
       "19           39730        99999  1930      2   14  43.500000   \n",
       "\n",
       "    num_mean_temp_samples  mean_dew_point  num_mean_dew_point_samples  \\\n",
       "0                       4       37.000000                           4   \n",
       "1                       4       34.500000                           4   \n",
       "2                       4       42.000000                           4   \n",
       "3                       4       36.200001                           4   \n",
       "4                       4       42.500000                           4   \n",
       "5                       4             NaN                        <NA>   \n",
       "6                       4       46.299999                           4   \n",
       "7                       4       48.700001                           4   \n",
       "8                       4       39.500000                           4   \n",
       "9                       4       50.000000                           4   \n",
       "10                      4       42.000000                           4   \n",
       "11                      4       44.000000                           4   \n",
       "12                      5       48.799999                           4   \n",
       "13                      5       53.000000                           4   \n",
       "14                      5       48.500000                           4   \n",
       "15                      5       45.500000                           4   \n",
       "16                      5       34.299999                           4   \n",
       "17                      4       45.500000                           4   \n",
       "18                      4       54.000000                           4   \n",
       "19                      4       38.299999                           4   \n",
       "\n",
       "    mean_sealevel_pressure  ...  min_temperature  min_temperature_explicit  \\\n",
       "0               996.700012  ...              NaN                      <NA>   \n",
       "1              1037.000000  ...              NaN                      <NA>   \n",
       "2               994.500000  ...              NaN                      <NA>   \n",
       "3               997.799988  ...              NaN                      <NA>   \n",
       "4              1028.099976  ...              NaN                      <NA>   \n",
       "5               983.200012  ...              NaN                      <NA>   \n",
       "6              1010.000000  ...              NaN                      <NA>   \n",
       "7              1019.299988  ...              NaN                      <NA>   \n",
       "8              1016.299988  ...              NaN                      <NA>   \n",
       "9              1001.099976  ...              NaN                      <NA>   \n",
       "10             1007.099976  ...              NaN                      <NA>   \n",
       "11             1008.400024  ...              NaN                      <NA>   \n",
       "12             1008.900024  ...              NaN                      <NA>   \n",
       "13              996.299988  ...              NaN                      <NA>   \n",
       "14             1027.199951  ...              NaN                      <NA>   \n",
       "15             1007.500000  ...              NaN                      <NA>   \n",
       "16             1006.500000  ...              NaN                      <NA>   \n",
       "17              987.299988  ...              NaN                      <NA>   \n",
       "18             1005.000000  ...              NaN                      <NA>   \n",
       "19             1016.299988  ...              NaN                      <NA>   \n",
       "\n",
       "    total_precipitation  snow_depth    fog   rain   snow   hail  thunder  \\\n",
       "0                   NaN         NaN  False  False  False  False    False   \n",
       "1                  0.00         NaN  False  False  False  False    False   \n",
       "2                   NaN         NaN  False  False  False  False    False   \n",
       "3                   NaN         NaN  False  False  False  False    False   \n",
       "4                  0.00         NaN  False  False  False  False    False   \n",
       "5                   NaN         NaN  False  False  False  False    False   \n",
       "6                   NaN         NaN  False  False  False  False    False   \n",
       "7                   NaN         NaN  False  False  False  False    False   \n",
       "8                   NaN         NaN  False  False  False  False    False   \n",
       "9                   NaN         NaN  False  False  False  False    False   \n",
       "10                 0.00         NaN  False  False  False  False    False   \n",
       "11                  NaN         NaN  False  False  False  False    False   \n",
       "12                 0.02         NaN  False  False  False  False    False   \n",
       "13                 0.47         NaN  False  False  False  False    False   \n",
       "14                 0.00         NaN  False  False  False  False    False   \n",
       "15                 0.12         NaN  False  False  False  False    False   \n",
       "16                 0.00         NaN  False  False  False  False    False   \n",
       "17                  NaN         NaN  False  False  False  False    False   \n",
       "18                 0.00         NaN  False  False  False  False    False   \n",
       "19                  NaN         NaN  False  False  False  False    False   \n",
       "\n",
       "    tornado  \n",
       "0     False  \n",
       "1     False  \n",
       "2     False  \n",
       "3     False  \n",
       "4     False  \n",
       "5     False  \n",
       "6     False  \n",
       "7     False  \n",
       "8     False  \n",
       "9     False  \n",
       "10    False  \n",
       "11    False  \n",
       "12    False  \n",
       "13    False  \n",
       "14    False  \n",
       "15    False  \n",
       "16    False  \n",
       "17    False  \n",
       "18    False  \n",
       "19    False  \n",
       "\n",
       "[20 rows x 31 columns]"
      ],
      "text/html": [
       "<div>\n",
       "<style scoped>\n",
       "    .dataframe tbody tr th:only-of-type {\n",
       "        vertical-align: middle;\n",
       "    }\n",
       "\n",
       "    .dataframe tbody tr th {\n",
       "        vertical-align: top;\n",
       "    }\n",
       "\n",
       "    .dataframe thead th {\n",
       "        text-align: right;\n",
       "    }\n",
       "</style>\n",
       "<table border=\"1\" class=\"dataframe\">\n",
       "  <thead>\n",
       "    <tr style=\"text-align: right;\">\n",
       "      <th></th>\n",
       "      <th>station_number</th>\n",
       "      <th>wban_number</th>\n",
       "      <th>year</th>\n",
       "      <th>month</th>\n",
       "      <th>day</th>\n",
       "      <th>mean_temp</th>\n",
       "      <th>num_mean_temp_samples</th>\n",
       "      <th>mean_dew_point</th>\n",
       "      <th>num_mean_dew_point_samples</th>\n",
       "      <th>mean_sealevel_pressure</th>\n",
       "      <th>...</th>\n",
       "      <th>min_temperature</th>\n",
       "      <th>min_temperature_explicit</th>\n",
       "      <th>total_precipitation</th>\n",
       "      <th>snow_depth</th>\n",
       "      <th>fog</th>\n",
       "      <th>rain</th>\n",
       "      <th>snow</th>\n",
       "      <th>hail</th>\n",
       "      <th>thunder</th>\n",
       "      <th>tornado</th>\n",
       "    </tr>\n",
       "  </thead>\n",
       "  <tbody>\n",
       "    <tr>\n",
       "      <th>0</th>\n",
       "      <td>39800</td>\n",
       "      <td>99999</td>\n",
       "      <td>1929</td>\n",
       "      <td>11</td>\n",
       "      <td>13</td>\n",
       "      <td>41.299999</td>\n",
       "      <td>4</td>\n",
       "      <td>37.000000</td>\n",
       "      <td>4</td>\n",
       "      <td>996.700012</td>\n",
       "      <td>...</td>\n",
       "      <td>NaN</td>\n",
       "      <td>&lt;NA&gt;</td>\n",
       "      <td>NaN</td>\n",
       "      <td>NaN</td>\n",
       "      <td>False</td>\n",
       "      <td>False</td>\n",
       "      <td>False</td>\n",
       "      <td>False</td>\n",
       "      <td>False</td>\n",
       "      <td>False</td>\n",
       "    </tr>\n",
       "    <tr>\n",
       "      <th>1</th>\n",
       "      <td>33110</td>\n",
       "      <td>99999</td>\n",
       "      <td>1929</td>\n",
       "      <td>12</td>\n",
       "      <td>16</td>\n",
       "      <td>45.500000</td>\n",
       "      <td>4</td>\n",
       "      <td>34.500000</td>\n",
       "      <td>4</td>\n",
       "      <td>1037.000000</td>\n",
       "      <td>...</td>\n",
       "      <td>NaN</td>\n",
       "      <td>&lt;NA&gt;</td>\n",
       "      <td>0.00</td>\n",
       "      <td>NaN</td>\n",
       "      <td>False</td>\n",
       "      <td>False</td>\n",
       "      <td>False</td>\n",
       "      <td>False</td>\n",
       "      <td>False</td>\n",
       "      <td>False</td>\n",
       "    </tr>\n",
       "    <tr>\n",
       "      <th>2</th>\n",
       "      <td>37770</td>\n",
       "      <td>99999</td>\n",
       "      <td>1929</td>\n",
       "      <td>12</td>\n",
       "      <td>8</td>\n",
       "      <td>48.000000</td>\n",
       "      <td>4</td>\n",
       "      <td>42.000000</td>\n",
       "      <td>4</td>\n",
       "      <td>994.500000</td>\n",
       "      <td>...</td>\n",
       "      <td>NaN</td>\n",
       "      <td>&lt;NA&gt;</td>\n",
       "      <td>NaN</td>\n",
       "      <td>NaN</td>\n",
       "      <td>False</td>\n",
       "      <td>False</td>\n",
       "      <td>False</td>\n",
       "      <td>False</td>\n",
       "      <td>False</td>\n",
       "      <td>False</td>\n",
       "    </tr>\n",
       "    <tr>\n",
       "      <th>3</th>\n",
       "      <td>38560</td>\n",
       "      <td>99999</td>\n",
       "      <td>1929</td>\n",
       "      <td>11</td>\n",
       "      <td>13</td>\n",
       "      <td>44.500000</td>\n",
       "      <td>4</td>\n",
       "      <td>36.200001</td>\n",
       "      <td>4</td>\n",
       "      <td>997.799988</td>\n",
       "      <td>...</td>\n",
       "      <td>NaN</td>\n",
       "      <td>&lt;NA&gt;</td>\n",
       "      <td>NaN</td>\n",
       "      <td>NaN</td>\n",
       "      <td>False</td>\n",
       "      <td>False</td>\n",
       "      <td>False</td>\n",
       "      <td>False</td>\n",
       "      <td>False</td>\n",
       "      <td>False</td>\n",
       "    </tr>\n",
       "    <tr>\n",
       "      <th>4</th>\n",
       "      <td>33110</td>\n",
       "      <td>99999</td>\n",
       "      <td>1929</td>\n",
       "      <td>12</td>\n",
       "      <td>15</td>\n",
       "      <td>46.700001</td>\n",
       "      <td>4</td>\n",
       "      <td>42.500000</td>\n",
       "      <td>4</td>\n",
       "      <td>1028.099976</td>\n",
       "      <td>...</td>\n",
       "      <td>NaN</td>\n",
       "      <td>&lt;NA&gt;</td>\n",
       "      <td>0.00</td>\n",
       "      <td>NaN</td>\n",
       "      <td>False</td>\n",
       "      <td>False</td>\n",
       "      <td>False</td>\n",
       "      <td>False</td>\n",
       "      <td>False</td>\n",
       "      <td>False</td>\n",
       "    </tr>\n",
       "    <tr>\n",
       "      <th>5</th>\n",
       "      <td>30910</td>\n",
       "      <td>99999</td>\n",
       "      <td>1929</td>\n",
       "      <td>10</td>\n",
       "      <td>6</td>\n",
       "      <td>50.000000</td>\n",
       "      <td>4</td>\n",
       "      <td>NaN</td>\n",
       "      <td>&lt;NA&gt;</td>\n",
       "      <td>983.200012</td>\n",
       "      <td>...</td>\n",
       "      <td>NaN</td>\n",
       "      <td>&lt;NA&gt;</td>\n",
       "      <td>NaN</td>\n",
       "      <td>NaN</td>\n",
       "      <td>False</td>\n",
       "      <td>False</td>\n",
       "      <td>False</td>\n",
       "      <td>False</td>\n",
       "      <td>False</td>\n",
       "      <td>False</td>\n",
       "    </tr>\n",
       "    <tr>\n",
       "      <th>6</th>\n",
       "      <td>33110</td>\n",
       "      <td>99999</td>\n",
       "      <td>1929</td>\n",
       "      <td>10</td>\n",
       "      <td>1</td>\n",
       "      <td>53.299999</td>\n",
       "      <td>4</td>\n",
       "      <td>46.299999</td>\n",
       "      <td>4</td>\n",
       "      <td>1010.000000</td>\n",
       "      <td>...</td>\n",
       "      <td>NaN</td>\n",
       "      <td>&lt;NA&gt;</td>\n",
       "      <td>NaN</td>\n",
       "      <td>NaN</td>\n",
       "      <td>False</td>\n",
       "      <td>False</td>\n",
       "      <td>False</td>\n",
       "      <td>False</td>\n",
       "      <td>False</td>\n",
       "      <td>False</td>\n",
       "    </tr>\n",
       "    <tr>\n",
       "      <th>7</th>\n",
       "      <td>39730</td>\n",
       "      <td>99999</td>\n",
       "      <td>1929</td>\n",
       "      <td>11</td>\n",
       "      <td>4</td>\n",
       "      <td>54.000000</td>\n",
       "      <td>4</td>\n",
       "      <td>48.700001</td>\n",
       "      <td>4</td>\n",
       "      <td>1019.299988</td>\n",
       "      <td>...</td>\n",
       "      <td>NaN</td>\n",
       "      <td>&lt;NA&gt;</td>\n",
       "      <td>NaN</td>\n",
       "      <td>NaN</td>\n",
       "      <td>False</td>\n",
       "      <td>False</td>\n",
       "      <td>False</td>\n",
       "      <td>False</td>\n",
       "      <td>False</td>\n",
       "      <td>False</td>\n",
       "    </tr>\n",
       "    <tr>\n",
       "      <th>8</th>\n",
       "      <td>38110</td>\n",
       "      <td>99999</td>\n",
       "      <td>1929</td>\n",
       "      <td>11</td>\n",
       "      <td>18</td>\n",
       "      <td>43.500000</td>\n",
       "      <td>4</td>\n",
       "      <td>39.500000</td>\n",
       "      <td>4</td>\n",
       "      <td>1016.299988</td>\n",
       "      <td>...</td>\n",
       "      <td>NaN</td>\n",
       "      <td>&lt;NA&gt;</td>\n",
       "      <td>NaN</td>\n",
       "      <td>NaN</td>\n",
       "      <td>False</td>\n",
       "      <td>False</td>\n",
       "      <td>False</td>\n",
       "      <td>False</td>\n",
       "      <td>False</td>\n",
       "      <td>False</td>\n",
       "    </tr>\n",
       "    <tr>\n",
       "      <th>9</th>\n",
       "      <td>39530</td>\n",
       "      <td>99999</td>\n",
       "      <td>1929</td>\n",
       "      <td>10</td>\n",
       "      <td>23</td>\n",
       "      <td>54.000000</td>\n",
       "      <td>4</td>\n",
       "      <td>50.000000</td>\n",
       "      <td>4</td>\n",
       "      <td>1001.099976</td>\n",
       "      <td>...</td>\n",
       "      <td>NaN</td>\n",
       "      <td>&lt;NA&gt;</td>\n",
       "      <td>NaN</td>\n",
       "      <td>NaN</td>\n",
       "      <td>False</td>\n",
       "      <td>False</td>\n",
       "      <td>False</td>\n",
       "      <td>False</td>\n",
       "      <td>False</td>\n",
       "      <td>False</td>\n",
       "    </tr>\n",
       "    <tr>\n",
       "      <th>10</th>\n",
       "      <td>33790</td>\n",
       "      <td>99999</td>\n",
       "      <td>1929</td>\n",
       "      <td>10</td>\n",
       "      <td>21</td>\n",
       "      <td>46.799999</td>\n",
       "      <td>4</td>\n",
       "      <td>42.000000</td>\n",
       "      <td>4</td>\n",
       "      <td>1007.099976</td>\n",
       "      <td>...</td>\n",
       "      <td>NaN</td>\n",
       "      <td>&lt;NA&gt;</td>\n",
       "      <td>0.00</td>\n",
       "      <td>NaN</td>\n",
       "      <td>False</td>\n",
       "      <td>False</td>\n",
       "      <td>False</td>\n",
       "      <td>False</td>\n",
       "      <td>False</td>\n",
       "      <td>False</td>\n",
       "    </tr>\n",
       "    <tr>\n",
       "      <th>11</th>\n",
       "      <td>38940</td>\n",
       "      <td>99999</td>\n",
       "      <td>1929</td>\n",
       "      <td>10</td>\n",
       "      <td>19</td>\n",
       "      <td>50.200001</td>\n",
       "      <td>4</td>\n",
       "      <td>44.000000</td>\n",
       "      <td>4</td>\n",
       "      <td>1008.400024</td>\n",
       "      <td>...</td>\n",
       "      <td>NaN</td>\n",
       "      <td>&lt;NA&gt;</td>\n",
       "      <td>NaN</td>\n",
       "      <td>NaN</td>\n",
       "      <td>False</td>\n",
       "      <td>False</td>\n",
       "      <td>False</td>\n",
       "      <td>False</td>\n",
       "      <td>False</td>\n",
       "      <td>False</td>\n",
       "    </tr>\n",
       "    <tr>\n",
       "      <th>12</th>\n",
       "      <td>34970</td>\n",
       "      <td>99999</td>\n",
       "      <td>1929</td>\n",
       "      <td>8</td>\n",
       "      <td>5</td>\n",
       "      <td>58.799999</td>\n",
       "      <td>5</td>\n",
       "      <td>48.799999</td>\n",
       "      <td>4</td>\n",
       "      <td>1008.900024</td>\n",
       "      <td>...</td>\n",
       "      <td>NaN</td>\n",
       "      <td>&lt;NA&gt;</td>\n",
       "      <td>0.02</td>\n",
       "      <td>NaN</td>\n",
       "      <td>False</td>\n",
       "      <td>False</td>\n",
       "      <td>False</td>\n",
       "      <td>False</td>\n",
       "      <td>False</td>\n",
       "      <td>False</td>\n",
       "    </tr>\n",
       "    <tr>\n",
       "      <th>13</th>\n",
       "      <td>38040</td>\n",
       "      <td>99999</td>\n",
       "      <td>1929</td>\n",
       "      <td>11</td>\n",
       "      <td>19</td>\n",
       "      <td>54.000000</td>\n",
       "      <td>5</td>\n",
       "      <td>53.000000</td>\n",
       "      <td>4</td>\n",
       "      <td>996.299988</td>\n",
       "      <td>...</td>\n",
       "      <td>NaN</td>\n",
       "      <td>&lt;NA&gt;</td>\n",
       "      <td>0.47</td>\n",
       "      <td>NaN</td>\n",
       "      <td>False</td>\n",
       "      <td>False</td>\n",
       "      <td>False</td>\n",
       "      <td>False</td>\n",
       "      <td>False</td>\n",
       "      <td>False</td>\n",
       "    </tr>\n",
       "    <tr>\n",
       "      <th>14</th>\n",
       "      <td>34970</td>\n",
       "      <td>99999</td>\n",
       "      <td>1929</td>\n",
       "      <td>10</td>\n",
       "      <td>13</td>\n",
       "      <td>53.200001</td>\n",
       "      <td>5</td>\n",
       "      <td>48.500000</td>\n",
       "      <td>4</td>\n",
       "      <td>1027.199951</td>\n",
       "      <td>...</td>\n",
       "      <td>NaN</td>\n",
       "      <td>&lt;NA&gt;</td>\n",
       "      <td>0.00</td>\n",
       "      <td>NaN</td>\n",
       "      <td>False</td>\n",
       "      <td>False</td>\n",
       "      <td>False</td>\n",
       "      <td>False</td>\n",
       "      <td>False</td>\n",
       "      <td>False</td>\n",
       "    </tr>\n",
       "    <tr>\n",
       "      <th>15</th>\n",
       "      <td>38040</td>\n",
       "      <td>99999</td>\n",
       "      <td>1929</td>\n",
       "      <td>12</td>\n",
       "      <td>27</td>\n",
       "      <td>47.200001</td>\n",
       "      <td>5</td>\n",
       "      <td>45.500000</td>\n",
       "      <td>4</td>\n",
       "      <td>1007.500000</td>\n",
       "      <td>...</td>\n",
       "      <td>NaN</td>\n",
       "      <td>&lt;NA&gt;</td>\n",
       "      <td>0.12</td>\n",
       "      <td>NaN</td>\n",
       "      <td>False</td>\n",
       "      <td>False</td>\n",
       "      <td>False</td>\n",
       "      <td>False</td>\n",
       "      <td>False</td>\n",
       "      <td>False</td>\n",
       "    </tr>\n",
       "    <tr>\n",
       "      <th>16</th>\n",
       "      <td>32620</td>\n",
       "      <td>99999</td>\n",
       "      <td>1929</td>\n",
       "      <td>12</td>\n",
       "      <td>31</td>\n",
       "      <td>38.200001</td>\n",
       "      <td>5</td>\n",
       "      <td>34.299999</td>\n",
       "      <td>4</td>\n",
       "      <td>1006.500000</td>\n",
       "      <td>...</td>\n",
       "      <td>NaN</td>\n",
       "      <td>&lt;NA&gt;</td>\n",
       "      <td>0.00</td>\n",
       "      <td>NaN</td>\n",
       "      <td>False</td>\n",
       "      <td>False</td>\n",
       "      <td>False</td>\n",
       "      <td>False</td>\n",
       "      <td>False</td>\n",
       "      <td>False</td>\n",
       "    </tr>\n",
       "    <tr>\n",
       "      <th>17</th>\n",
       "      <td>30750</td>\n",
       "      <td>99999</td>\n",
       "      <td>1930</td>\n",
       "      <td>10</td>\n",
       "      <td>6</td>\n",
       "      <td>46.500000</td>\n",
       "      <td>4</td>\n",
       "      <td>45.500000</td>\n",
       "      <td>4</td>\n",
       "      <td>987.299988</td>\n",
       "      <td>...</td>\n",
       "      <td>NaN</td>\n",
       "      <td>&lt;NA&gt;</td>\n",
       "      <td>NaN</td>\n",
       "      <td>NaN</td>\n",
       "      <td>False</td>\n",
       "      <td>False</td>\n",
       "      <td>False</td>\n",
       "      <td>False</td>\n",
       "      <td>False</td>\n",
       "      <td>False</td>\n",
       "    </tr>\n",
       "    <tr>\n",
       "      <th>18</th>\n",
       "      <td>39800</td>\n",
       "      <td>99999</td>\n",
       "      <td>1930</td>\n",
       "      <td>7</td>\n",
       "      <td>27</td>\n",
       "      <td>57.500000</td>\n",
       "      <td>4</td>\n",
       "      <td>54.000000</td>\n",
       "      <td>4</td>\n",
       "      <td>1005.000000</td>\n",
       "      <td>...</td>\n",
       "      <td>NaN</td>\n",
       "      <td>&lt;NA&gt;</td>\n",
       "      <td>0.00</td>\n",
       "      <td>NaN</td>\n",
       "      <td>False</td>\n",
       "      <td>False</td>\n",
       "      <td>False</td>\n",
       "      <td>False</td>\n",
       "      <td>False</td>\n",
       "      <td>False</td>\n",
       "    </tr>\n",
       "    <tr>\n",
       "      <th>19</th>\n",
       "      <td>39730</td>\n",
       "      <td>99999</td>\n",
       "      <td>1930</td>\n",
       "      <td>2</td>\n",
       "      <td>14</td>\n",
       "      <td>43.500000</td>\n",
       "      <td>4</td>\n",
       "      <td>38.299999</td>\n",
       "      <td>4</td>\n",
       "      <td>1016.299988</td>\n",
       "      <td>...</td>\n",
       "      <td>NaN</td>\n",
       "      <td>&lt;NA&gt;</td>\n",
       "      <td>NaN</td>\n",
       "      <td>NaN</td>\n",
       "      <td>False</td>\n",
       "      <td>False</td>\n",
       "      <td>False</td>\n",
       "      <td>False</td>\n",
       "      <td>False</td>\n",
       "      <td>False</td>\n",
       "    </tr>\n",
       "  </tbody>\n",
       "</table>\n",
       "<p>20 rows × 31 columns</p>\n",
       "</div>"
      ]
     },
     "execution_count": 43,
     "metadata": {},
     "output_type": "execute_result"
    }
   ]
  },
  {
   "cell_type": "markdown",
   "metadata": {},
   "source": [
    "## Part 1"
   ]
  },
  {
   "cell_type": "markdown",
   "metadata": {},
   "source": [
    "### 1. Task\n",
    "Change the date format to 'YYYY-MM-DD' and select the data from 2000 till 2005 for station numbers including and between 725300 and 726300 , and save it as a pandas dataframe. Note the maximum year available is 2010."
   ]
  },
  {
   "metadata": {
    "ExecuteTime": {
     "end_time": "2025-05-20T13:05:29.815932Z",
     "start_time": "2025-05-20T13:05:29.811887Z"
    }
   },
   "cell_type": "code",
   "source": "import pandas as pd",
   "outputs": [],
   "execution_count": 44
  },
  {
   "metadata": {},
   "cell_type": "code",
   "source": [
    "%%bigquery df\n",
    "SELECT\n",
    "  *,\n",
    "  CAST(CONCAT(CAST(`year` AS STRING), '-', CAST(`month` AS STRING), '-', CAST(`day` AS STRING)) AS STRING) AS date\n",
    "FROM\n",
    "  `bigquery-public-data.samples.gsod`\n",
    "WHERE\n",
    "  `year` >= 2000\n",
    "  AND `year` <= 2005\n",
    "  AND `station_number` >= 725300\n",
    "  AND `station_number` <= 726300;"
   ],
   "execution_count": 45,
   "outputs": [
    {
     "data": {
      "text/plain": [
       "Query is running:   0%|          |"
      ],
      "application/vnd.jupyter.widget-view+json": {
       "version_major": 2,
       "version_minor": 0,
       "model_id": "be4bcafc8292466fad3ad255f6713e16"
      },
      "application/json": {
       "n": 0,
       "total": 1,
       "elapsed": 0.011948108673095703,
       "ncols": null,
       "nrows": null,
       "prefix": "Query is running",
       "ascii": false,
       "unit": "query",
       "unit_scale": false,
       "rate": null,
       "bar_format": "{l_bar}{bar}|",
       "postfix": null,
       "unit_divisor": 1000,
       "initial": 0,
       "colour": null
      }
     },
     "metadata": {},
     "output_type": "display_data"
    },
    {
     "data": {
      "text/plain": [
       "Downloading:   0%|          |"
      ],
      "application/vnd.jupyter.widget-view+json": {
       "version_major": 2,
       "version_minor": 0,
       "model_id": "6be8a2aa3d1a4149914d90451c79ef74"
      },
      "application/json": {
       "n": 0,
       "total": 447037,
       "elapsed": 0.006078481674194336,
       "ncols": null,
       "nrows": null,
       "prefix": "Downloading",
       "ascii": false,
       "unit": "rows",
       "unit_scale": false,
       "rate": null,
       "bar_format": "{l_bar}{bar}|",
       "postfix": null,
       "unit_divisor": 1000,
       "initial": 0,
       "colour": null
      }
     },
     "metadata": {},
     "output_type": "display_data"
    }
   ]
  },
  {
   "cell_type": "code",
   "metadata": {
    "ExecuteTime": {
     "end_time": "2025-05-20T13:05:37.182757Z",
     "start_time": "2025-05-20T13:05:37.164785Z"
    }
   },
   "source": "df.head()",
   "outputs": [
    {
     "data": {
      "text/plain": [
       "   station_number  wban_number  year  month  day  mean_temp  \\\n",
       "0          725786        99999  2000      1    7  19.799999   \n",
       "1          725869        99999  2000      5   11  40.599998   \n",
       "2          725869        99999  2000      2    9  42.299999   \n",
       "3          725827        99999  2000      2    8  38.799999   \n",
       "4          725786        99999  2000      3    1  42.400002   \n",
       "\n",
       "   num_mean_temp_samples  mean_dew_point  num_mean_dew_point_samples  \\\n",
       "0                      4       16.200001                           4   \n",
       "1                      4       25.700001                           4   \n",
       "2                      4       35.099998                           4   \n",
       "3                      4       17.600000                           4   \n",
       "4                      5       36.299999                           5   \n",
       "\n",
       "   mean_sealevel_pressure  ...  min_temperature_explicit  total_precipitation  \\\n",
       "0                     NaN  ...                      <NA>                 0.00   \n",
       "1                     NaN  ...                      <NA>                 0.00   \n",
       "2                     NaN  ...                      <NA>                 0.00   \n",
       "3             1024.199951  ...                      <NA>                 0.01   \n",
       "4                     NaN  ...                      <NA>                  NaN   \n",
       "\n",
       "   snow_depth    fog   rain   snow   hail  thunder  tornado       date  \n",
       "0         3.1  False  False  False  False    False    False   2000-1-7  \n",
       "1         NaN  False  False  False  False    False    False  2000-5-11  \n",
       "2         NaN  False  False  False  False    False    False   2000-2-9  \n",
       "3        11.8  False  False  False  False    False    False   2000-2-8  \n",
       "4         NaN  False  False  False  False    False    False   2000-3-1  \n",
       "\n",
       "[5 rows x 32 columns]"
      ],
      "text/html": [
       "<div>\n",
       "<style scoped>\n",
       "    .dataframe tbody tr th:only-of-type {\n",
       "        vertical-align: middle;\n",
       "    }\n",
       "\n",
       "    .dataframe tbody tr th {\n",
       "        vertical-align: top;\n",
       "    }\n",
       "\n",
       "    .dataframe thead th {\n",
       "        text-align: right;\n",
       "    }\n",
       "</style>\n",
       "<table border=\"1\" class=\"dataframe\">\n",
       "  <thead>\n",
       "    <tr style=\"text-align: right;\">\n",
       "      <th></th>\n",
       "      <th>station_number</th>\n",
       "      <th>wban_number</th>\n",
       "      <th>year</th>\n",
       "      <th>month</th>\n",
       "      <th>day</th>\n",
       "      <th>mean_temp</th>\n",
       "      <th>num_mean_temp_samples</th>\n",
       "      <th>mean_dew_point</th>\n",
       "      <th>num_mean_dew_point_samples</th>\n",
       "      <th>mean_sealevel_pressure</th>\n",
       "      <th>...</th>\n",
       "      <th>min_temperature_explicit</th>\n",
       "      <th>total_precipitation</th>\n",
       "      <th>snow_depth</th>\n",
       "      <th>fog</th>\n",
       "      <th>rain</th>\n",
       "      <th>snow</th>\n",
       "      <th>hail</th>\n",
       "      <th>thunder</th>\n",
       "      <th>tornado</th>\n",
       "      <th>date</th>\n",
       "    </tr>\n",
       "  </thead>\n",
       "  <tbody>\n",
       "    <tr>\n",
       "      <th>0</th>\n",
       "      <td>725786</td>\n",
       "      <td>99999</td>\n",
       "      <td>2000</td>\n",
       "      <td>1</td>\n",
       "      <td>7</td>\n",
       "      <td>19.799999</td>\n",
       "      <td>4</td>\n",
       "      <td>16.200001</td>\n",
       "      <td>4</td>\n",
       "      <td>NaN</td>\n",
       "      <td>...</td>\n",
       "      <td>&lt;NA&gt;</td>\n",
       "      <td>0.00</td>\n",
       "      <td>3.1</td>\n",
       "      <td>False</td>\n",
       "      <td>False</td>\n",
       "      <td>False</td>\n",
       "      <td>False</td>\n",
       "      <td>False</td>\n",
       "      <td>False</td>\n",
       "      <td>2000-1-7</td>\n",
       "    </tr>\n",
       "    <tr>\n",
       "      <th>1</th>\n",
       "      <td>725869</td>\n",
       "      <td>99999</td>\n",
       "      <td>2000</td>\n",
       "      <td>5</td>\n",
       "      <td>11</td>\n",
       "      <td>40.599998</td>\n",
       "      <td>4</td>\n",
       "      <td>25.700001</td>\n",
       "      <td>4</td>\n",
       "      <td>NaN</td>\n",
       "      <td>...</td>\n",
       "      <td>&lt;NA&gt;</td>\n",
       "      <td>0.00</td>\n",
       "      <td>NaN</td>\n",
       "      <td>False</td>\n",
       "      <td>False</td>\n",
       "      <td>False</td>\n",
       "      <td>False</td>\n",
       "      <td>False</td>\n",
       "      <td>False</td>\n",
       "      <td>2000-5-11</td>\n",
       "    </tr>\n",
       "    <tr>\n",
       "      <th>2</th>\n",
       "      <td>725869</td>\n",
       "      <td>99999</td>\n",
       "      <td>2000</td>\n",
       "      <td>2</td>\n",
       "      <td>9</td>\n",
       "      <td>42.299999</td>\n",
       "      <td>4</td>\n",
       "      <td>35.099998</td>\n",
       "      <td>4</td>\n",
       "      <td>NaN</td>\n",
       "      <td>...</td>\n",
       "      <td>&lt;NA&gt;</td>\n",
       "      <td>0.00</td>\n",
       "      <td>NaN</td>\n",
       "      <td>False</td>\n",
       "      <td>False</td>\n",
       "      <td>False</td>\n",
       "      <td>False</td>\n",
       "      <td>False</td>\n",
       "      <td>False</td>\n",
       "      <td>2000-2-9</td>\n",
       "    </tr>\n",
       "    <tr>\n",
       "      <th>3</th>\n",
       "      <td>725827</td>\n",
       "      <td>99999</td>\n",
       "      <td>2000</td>\n",
       "      <td>2</td>\n",
       "      <td>8</td>\n",
       "      <td>38.799999</td>\n",
       "      <td>4</td>\n",
       "      <td>17.600000</td>\n",
       "      <td>4</td>\n",
       "      <td>1024.199951</td>\n",
       "      <td>...</td>\n",
       "      <td>&lt;NA&gt;</td>\n",
       "      <td>0.01</td>\n",
       "      <td>11.8</td>\n",
       "      <td>False</td>\n",
       "      <td>False</td>\n",
       "      <td>False</td>\n",
       "      <td>False</td>\n",
       "      <td>False</td>\n",
       "      <td>False</td>\n",
       "      <td>2000-2-8</td>\n",
       "    </tr>\n",
       "    <tr>\n",
       "      <th>4</th>\n",
       "      <td>725786</td>\n",
       "      <td>99999</td>\n",
       "      <td>2000</td>\n",
       "      <td>3</td>\n",
       "      <td>1</td>\n",
       "      <td>42.400002</td>\n",
       "      <td>5</td>\n",
       "      <td>36.299999</td>\n",
       "      <td>5</td>\n",
       "      <td>NaN</td>\n",
       "      <td>...</td>\n",
       "      <td>&lt;NA&gt;</td>\n",
       "      <td>NaN</td>\n",
       "      <td>NaN</td>\n",
       "      <td>False</td>\n",
       "      <td>False</td>\n",
       "      <td>False</td>\n",
       "      <td>False</td>\n",
       "      <td>False</td>\n",
       "      <td>False</td>\n",
       "      <td>2000-3-1</td>\n",
       "    </tr>\n",
       "  </tbody>\n",
       "</table>\n",
       "<p>5 rows × 32 columns</p>\n",
       "</div>"
      ]
     },
     "execution_count": 46,
     "metadata": {},
     "output_type": "execute_result"
    }
   ],
   "execution_count": 46
  },
  {
   "metadata": {
    "ExecuteTime": {
     "end_time": "2025-05-20T13:05:37.480188Z",
     "start_time": "2025-05-20T13:05:37.428368Z"
    }
   },
   "cell_type": "code",
   "source": "df.info()",
   "outputs": [
    {
     "name": "stdout",
     "output_type": "stream",
     "text": [
      "<class 'pandas.core.frame.DataFrame'>\n",
      "RangeIndex: 447037 entries, 0 to 447036\n",
      "Data columns (total 32 columns):\n",
      " #   Column                              Non-Null Count   Dtype  \n",
      "---  ------                              --------------   -----  \n",
      " 0   station_number                      447037 non-null  Int64  \n",
      " 1   wban_number                         447037 non-null  Int64  \n",
      " 2   year                                447037 non-null  Int64  \n",
      " 3   month                               447037 non-null  Int64  \n",
      " 4   day                                 447037 non-null  Int64  \n",
      " 5   mean_temp                           447037 non-null  float64\n",
      " 6   num_mean_temp_samples               447037 non-null  Int64  \n",
      " 7   mean_dew_point                      445667 non-null  float64\n",
      " 8   num_mean_dew_point_samples          445667 non-null  Int64  \n",
      " 9   mean_sealevel_pressure              272831 non-null  float64\n",
      " 10  num_mean_sealevel_pressure_samples  272831 non-null  Int64  \n",
      " 11  mean_station_pressure               13482 non-null   float64\n",
      " 12  num_mean_station_pressure_samples   13482 non-null   Int64  \n",
      " 13  mean_visibility                     436445 non-null  float64\n",
      " 14  num_mean_visibility_samples         436445 non-null  Int64  \n",
      " 15  mean_wind_speed                     446152 non-null  float64\n",
      " 16  num_mean_wind_speed_samples         446152 non-null  Int64  \n",
      " 17  max_sustained_wind_speed            445258 non-null  float64\n",
      " 18  max_gust_wind_speed                 263401 non-null  float64\n",
      " 19  max_temperature                     446880 non-null  float64\n",
      " 20  max_temperature_explicit            446880 non-null  boolean\n",
      " 21  min_temperature                     0 non-null       float64\n",
      " 22  min_temperature_explicit            0 non-null       boolean\n",
      " 23  total_precipitation                 426429 non-null  float64\n",
      " 24  snow_depth                          9878 non-null    float64\n",
      " 25  fog                                 447037 non-null  boolean\n",
      " 26  rain                                447037 non-null  boolean\n",
      " 27  snow                                447037 non-null  boolean\n",
      " 28  hail                                447037 non-null  boolean\n",
      " 29  thunder                             447037 non-null  boolean\n",
      " 30  tornado                             447037 non-null  boolean\n",
      " 31  date                                447037 non-null  object \n",
      "dtypes: Int64(11), boolean(8), float64(12), object(1)\n",
      "memory usage: 93.4+ MB\n"
     ]
    }
   ],
   "execution_count": 47
  },
  {
   "metadata": {},
   "cell_type": "markdown",
   "source": "From here I will be using the set you provided, since I got stuck dealing with how Int64 and boolean treat missing values: I ended up with too few datapoints for the classification."
  },
  {
   "cell_type": "code",
   "metadata": {
    "ExecuteTime": {
     "end_time": "2025-05-20T13:05:37.821549Z",
     "start_time": "2025-05-20T13:05:37.579954Z"
    }
   },
   "source": [
    "df = pd.read_csv(\"coding_challenge.csv\")\n",
    "df.info()\n",
    "# Convert relevant columns to appropriate types\n",
    "#df['snow_depth'] = pd.to_numeric(df['snow_depth'], errors='coerce')\n",
    "df['date'] = pd.to_datetime(df[['year', 'month', 'day']])"
   ],
   "outputs": [
    {
     "name": "stdout",
     "output_type": "stream",
     "text": [
      "<class 'pandas.core.frame.DataFrame'>\n",
      "RangeIndex: 37415 entries, 0 to 37414\n",
      "Data columns (total 32 columns):\n",
      " #   Column                              Non-Null Count  Dtype  \n",
      "---  ------                              --------------  -----  \n",
      " 0   date                                37415 non-null  object \n",
      " 1   station_number                      37415 non-null  int64  \n",
      " 2   wban_number                         37415 non-null  int64  \n",
      " 3   year                                37415 non-null  int64  \n",
      " 4   month                               37415 non-null  int64  \n",
      " 5   day                                 37415 non-null  int64  \n",
      " 6   mean_temp                           37415 non-null  float64\n",
      " 7   num_mean_temp_samples               37415 non-null  int64  \n",
      " 8   mean_dew_point                      37406 non-null  float64\n",
      " 9   num_mean_dew_point_samples          37406 non-null  float64\n",
      " 10  mean_sealevel_pressure              33259 non-null  float64\n",
      " 11  num_mean_sealevel_pressure_samples  33259 non-null  float64\n",
      " 12  mean_station_pressure               1885 non-null   float64\n",
      " 13  num_mean_station_pressure_samples   1885 non-null   float64\n",
      " 14  mean_visibility                     37396 non-null  float64\n",
      " 15  num_mean_visibility_samples         37396 non-null  float64\n",
      " 16  mean_wind_speed                     37403 non-null  float64\n",
      " 17  num_mean_wind_speed_samples         37403 non-null  float64\n",
      " 18  max_sustained_wind_speed            37398 non-null  float64\n",
      " 19  max_gust_wind_speed                 22393 non-null  float64\n",
      " 20  max_temperature                     37412 non-null  float64\n",
      " 21  max_temperature_explicit            37412 non-null  object \n",
      " 22  min_temperature                     0 non-null      float64\n",
      " 23  min_temperature_explicit            0 non-null      float64\n",
      " 24  total_precipitation                 36967 non-null  float64\n",
      " 25  snow_depth                          1371 non-null   float64\n",
      " 26  fog                                 37415 non-null  bool   \n",
      " 27  rain                                37415 non-null  bool   \n",
      " 28  snow                                37415 non-null  bool   \n",
      " 29  hail                                37415 non-null  bool   \n",
      " 30  thunder                             37415 non-null  bool   \n",
      " 31  tornado                             37415 non-null  bool   \n",
      "dtypes: bool(6), float64(18), int64(6), object(2)\n",
      "memory usage: 7.6+ MB\n"
     ]
    },
    {
     "name": "stderr",
     "output_type": "stream",
     "text": [
      "C:\\Users\\LubaC\\AppData\\Local\\Temp\\ipykernel_33880\\857106779.py:1: DtypeWarning: Columns (21) have mixed types. Specify dtype option on import or set low_memory=False.\n",
      "  df = pd.read_csv(\"coding_challenge.csv\")\n"
     ]
    }
   ],
   "execution_count": 48
  },
  {
   "metadata": {
    "ExecuteTime": {
     "end_time": "2025-05-20T13:06:37.762039Z",
     "start_time": "2025-05-20T13:06:37.731857Z"
    }
   },
   "cell_type": "code",
   "source": [
    "df[\"max_temperature_explicit\"] = df[\"max_temperature_explicit\"].convert_dtypes(infer_objects=True, convert_boolean=True)\n",
    "df[\"date\"] = pd.to_datetime(df[\"date\"])\n",
    "df.info()"
   ],
   "outputs": [
    {
     "name": "stdout",
     "output_type": "stream",
     "text": [
      "<class 'pandas.core.frame.DataFrame'>\n",
      "RangeIndex: 37415 entries, 0 to 37414\n",
      "Data columns (total 32 columns):\n",
      " #   Column                              Non-Null Count  Dtype         \n",
      "---  ------                              --------------  -----         \n",
      " 0   date                                37415 non-null  datetime64[ns]\n",
      " 1   station_number                      37415 non-null  int64         \n",
      " 2   wban_number                         37415 non-null  int64         \n",
      " 3   year                                37415 non-null  int64         \n",
      " 4   month                               37415 non-null  int64         \n",
      " 5   day                                 37415 non-null  int64         \n",
      " 6   mean_temp                           37415 non-null  float64       \n",
      " 7   num_mean_temp_samples               37415 non-null  int64         \n",
      " 8   mean_dew_point                      37406 non-null  float64       \n",
      " 9   num_mean_dew_point_samples          37406 non-null  float64       \n",
      " 10  mean_sealevel_pressure              33259 non-null  float64       \n",
      " 11  num_mean_sealevel_pressure_samples  33259 non-null  float64       \n",
      " 12  mean_station_pressure               1885 non-null   float64       \n",
      " 13  num_mean_station_pressure_samples   1885 non-null   float64       \n",
      " 14  mean_visibility                     37396 non-null  float64       \n",
      " 15  num_mean_visibility_samples         37396 non-null  float64       \n",
      " 16  mean_wind_speed                     37403 non-null  float64       \n",
      " 17  num_mean_wind_speed_samples         37403 non-null  float64       \n",
      " 18  max_sustained_wind_speed            37398 non-null  float64       \n",
      " 19  max_gust_wind_speed                 22393 non-null  float64       \n",
      " 20  max_temperature                     37412 non-null  float64       \n",
      " 21  max_temperature_explicit            37412 non-null  boolean       \n",
      " 22  min_temperature                     0 non-null      float64       \n",
      " 23  min_temperature_explicit            0 non-null      float64       \n",
      " 24  total_precipitation                 36967 non-null  float64       \n",
      " 25  snow_depth                          1371 non-null   float64       \n",
      " 26  fog                                 37415 non-null  bool          \n",
      " 27  rain                                37415 non-null  bool          \n",
      " 28  snow                                37415 non-null  bool          \n",
      " 29  hail                                37415 non-null  bool          \n",
      " 30  thunder                             37415 non-null  bool          \n",
      " 31  tornado                             37415 non-null  bool          \n",
      "dtypes: bool(6), boolean(1), datetime64[ns](1), float64(18), int64(6)\n",
      "memory usage: 7.4 MB\n"
     ]
    }
   ],
   "execution_count": 49
  },
  {
   "metadata": {
    "ExecuteTime": {
     "end_time": "2025-05-20T13:06:38.028781Z",
     "start_time": "2025-05-20T13:06:38.006874Z"
    }
   },
   "cell_type": "code",
   "source": [
    "df.dropna(how='all', axis=1, inplace=True)\n",
    "df.info()"
   ],
   "outputs": [
    {
     "name": "stdout",
     "output_type": "stream",
     "text": [
      "<class 'pandas.core.frame.DataFrame'>\n",
      "RangeIndex: 37415 entries, 0 to 37414\n",
      "Data columns (total 30 columns):\n",
      " #   Column                              Non-Null Count  Dtype         \n",
      "---  ------                              --------------  -----         \n",
      " 0   date                                37415 non-null  datetime64[ns]\n",
      " 1   station_number                      37415 non-null  int64         \n",
      " 2   wban_number                         37415 non-null  int64         \n",
      " 3   year                                37415 non-null  int64         \n",
      " 4   month                               37415 non-null  int64         \n",
      " 5   day                                 37415 non-null  int64         \n",
      " 6   mean_temp                           37415 non-null  float64       \n",
      " 7   num_mean_temp_samples               37415 non-null  int64         \n",
      " 8   mean_dew_point                      37406 non-null  float64       \n",
      " 9   num_mean_dew_point_samples          37406 non-null  float64       \n",
      " 10  mean_sealevel_pressure              33259 non-null  float64       \n",
      " 11  num_mean_sealevel_pressure_samples  33259 non-null  float64       \n",
      " 12  mean_station_pressure               1885 non-null   float64       \n",
      " 13  num_mean_station_pressure_samples   1885 non-null   float64       \n",
      " 14  mean_visibility                     37396 non-null  float64       \n",
      " 15  num_mean_visibility_samples         37396 non-null  float64       \n",
      " 16  mean_wind_speed                     37403 non-null  float64       \n",
      " 17  num_mean_wind_speed_samples         37403 non-null  float64       \n",
      " 18  max_sustained_wind_speed            37398 non-null  float64       \n",
      " 19  max_gust_wind_speed                 22393 non-null  float64       \n",
      " 20  max_temperature                     37412 non-null  float64       \n",
      " 21  max_temperature_explicit            37412 non-null  boolean       \n",
      " 22  total_precipitation                 36967 non-null  float64       \n",
      " 23  snow_depth                          1371 non-null   float64       \n",
      " 24  fog                                 37415 non-null  bool          \n",
      " 25  rain                                37415 non-null  bool          \n",
      " 26  snow                                37415 non-null  bool          \n",
      " 27  hail                                37415 non-null  bool          \n",
      " 28  thunder                             37415 non-null  bool          \n",
      " 29  tornado                             37415 non-null  bool          \n",
      "dtypes: bool(6), boolean(1), datetime64[ns](1), float64(16), int64(6)\n",
      "memory usage: 6.9 MB\n"
     ]
    }
   ],
   "execution_count": 50
  },
  {
   "metadata": {
    "ExecuteTime": {
     "end_time": "2025-05-20T13:06:38.240356Z",
     "start_time": "2025-05-20T13:06:38.231973Z"
    }
   },
   "cell_type": "code",
   "source": "df= df.drop(['max_temperature_explicit'], axis=1)",
   "outputs": [],
   "execution_count": 51
  },
  {
   "metadata": {
    "ExecuteTime": {
     "end_time": "2025-05-20T13:07:38.493881Z",
     "start_time": "2025-05-20T13:07:38.458252Z"
    }
   },
   "cell_type": "code",
   "source": [
    "print(df['station_number'].nunique())\n",
    "print(len(df['station_number']))\n",
    "print(df['wban_number'].nunique())\n",
    "print(len(df['wban_number']))\n",
    "df['station_wban'] = df['station_number'].astype(str) + '_' + df['wban_number'].astype(str)\n",
    "print(df['station_wban'].nunique())\n",
    "df = df.drop('station_wban', axis=1)"
   ],
   "outputs": [
    {
     "name": "stdout",
     "output_type": "stream",
     "text": [
      "10\n",
      "37415\n",
      "11\n",
      "37415\n",
      "17\n"
     ]
    }
   ],
   "execution_count": 52
  },
  {
   "metadata": {},
   "cell_type": "markdown",
   "source": "From my brief research, US-specific wban_number (Weather Bureau Army Navy number) is largely misleading since administrative changes or changes in ownership lead to giving a physical station different numbers throughout history. A brief check-up of actual data has confirmed this, so I am excluding this information: this particular task does not require distinguishing between different operational periods, and it will only confuse the model."
  },
  {
   "metadata": {
    "ExecuteTime": {
     "end_time": "2025-05-20T13:07:38.534238Z",
     "start_time": "2025-05-20T13:07:38.515504Z"
    }
   },
   "cell_type": "code",
   "source": [
    "df = df.drop('wban_number', axis=1)\n",
    "df.info()"
   ],
   "outputs": [
    {
     "name": "stdout",
     "output_type": "stream",
     "text": [
      "<class 'pandas.core.frame.DataFrame'>\n",
      "RangeIndex: 37415 entries, 0 to 37414\n",
      "Data columns (total 28 columns):\n",
      " #   Column                              Non-Null Count  Dtype         \n",
      "---  ------                              --------------  -----         \n",
      " 0   date                                37415 non-null  datetime64[ns]\n",
      " 1   station_number                      37415 non-null  int64         \n",
      " 2   year                                37415 non-null  int64         \n",
      " 3   month                               37415 non-null  int64         \n",
      " 4   day                                 37415 non-null  int64         \n",
      " 5   mean_temp                           37415 non-null  float64       \n",
      " 6   num_mean_temp_samples               37415 non-null  int64         \n",
      " 7   mean_dew_point                      37406 non-null  float64       \n",
      " 8   num_mean_dew_point_samples          37406 non-null  float64       \n",
      " 9   mean_sealevel_pressure              33259 non-null  float64       \n",
      " 10  num_mean_sealevel_pressure_samples  33259 non-null  float64       \n",
      " 11  mean_station_pressure               1885 non-null   float64       \n",
      " 12  num_mean_station_pressure_samples   1885 non-null   float64       \n",
      " 13  mean_visibility                     37396 non-null  float64       \n",
      " 14  num_mean_visibility_samples         37396 non-null  float64       \n",
      " 15  mean_wind_speed                     37403 non-null  float64       \n",
      " 16  num_mean_wind_speed_samples         37403 non-null  float64       \n",
      " 17  max_sustained_wind_speed            37398 non-null  float64       \n",
      " 18  max_gust_wind_speed                 22393 non-null  float64       \n",
      " 19  max_temperature                     37412 non-null  float64       \n",
      " 20  total_precipitation                 36967 non-null  float64       \n",
      " 21  snow_depth                          1371 non-null   float64       \n",
      " 22  fog                                 37415 non-null  bool          \n",
      " 23  rain                                37415 non-null  bool          \n",
      " 24  snow                                37415 non-null  bool          \n",
      " 25  hail                                37415 non-null  bool          \n",
      " 26  thunder                             37415 non-null  bool          \n",
      " 27  tornado                             37415 non-null  bool          \n",
      "dtypes: bool(6), datetime64[ns](1), float64(16), int64(5)\n",
      "memory usage: 6.5 MB\n"
     ]
    }
   ],
   "execution_count": 53
  },
  {
   "metadata": {},
   "cell_type": "markdown",
   "source": [
    "### 2. Task\n",
    "From here we are working with the saved dataframe with data from all stations 725300 to 725330 that have information from 2000 till 2005."
   ]
  },
  {
   "metadata": {
    "ExecuteTime": {
     "end_time": "2025-05-20T13:07:38.839317Z",
     "start_time": "2025-05-20T13:07:38.830947Z"
    }
   },
   "cell_type": "code",
   "source": [
    "# Filter for the station numbers of 10 station of interest\n",
    "start_station = 725300\n",
    "end_station = 725330\n",
    "df_filtered_stations = df[(df['station_number'] >= start_station) & (df['station_number'] <= end_station)]\n",
    "df_final = df_filtered_stations"
   ],
   "outputs": [],
   "execution_count": 54
  },
  {
   "metadata": {
    "ExecuteTime": {
     "end_time": "2025-05-20T13:07:39.022268Z",
     "start_time": "2025-05-20T13:07:39.010409Z"
    }
   },
   "cell_type": "code",
   "source": "df_final.info()",
   "outputs": [
    {
     "name": "stdout",
     "output_type": "stream",
     "text": [
      "<class 'pandas.core.frame.DataFrame'>\n",
      "RangeIndex: 37415 entries, 0 to 37414\n",
      "Data columns (total 28 columns):\n",
      " #   Column                              Non-Null Count  Dtype         \n",
      "---  ------                              --------------  -----         \n",
      " 0   date                                37415 non-null  datetime64[ns]\n",
      " 1   station_number                      37415 non-null  int64         \n",
      " 2   year                                37415 non-null  int64         \n",
      " 3   month                               37415 non-null  int64         \n",
      " 4   day                                 37415 non-null  int64         \n",
      " 5   mean_temp                           37415 non-null  float64       \n",
      " 6   num_mean_temp_samples               37415 non-null  int64         \n",
      " 7   mean_dew_point                      37406 non-null  float64       \n",
      " 8   num_mean_dew_point_samples          37406 non-null  float64       \n",
      " 9   mean_sealevel_pressure              33259 non-null  float64       \n",
      " 10  num_mean_sealevel_pressure_samples  33259 non-null  float64       \n",
      " 11  mean_station_pressure               1885 non-null   float64       \n",
      " 12  num_mean_station_pressure_samples   1885 non-null   float64       \n",
      " 13  mean_visibility                     37396 non-null  float64       \n",
      " 14  num_mean_visibility_samples         37396 non-null  float64       \n",
      " 15  mean_wind_speed                     37403 non-null  float64       \n",
      " 16  num_mean_wind_speed_samples         37403 non-null  float64       \n",
      " 17  max_sustained_wind_speed            37398 non-null  float64       \n",
      " 18  max_gust_wind_speed                 22393 non-null  float64       \n",
      " 19  max_temperature                     37412 non-null  float64       \n",
      " 20  total_precipitation                 36967 non-null  float64       \n",
      " 21  snow_depth                          1371 non-null   float64       \n",
      " 22  fog                                 37415 non-null  bool          \n",
      " 23  rain                                37415 non-null  bool          \n",
      " 24  snow                                37415 non-null  bool          \n",
      " 25  hail                                37415 non-null  bool          \n",
      " 26  thunder                             37415 non-null  bool          \n",
      " 27  tornado                             37415 non-null  bool          \n",
      "dtypes: bool(6), datetime64[ns](1), float64(16), int64(5)\n",
      "memory usage: 6.5 MB\n"
     ]
    }
   ],
   "execution_count": 55
  },
  {
   "metadata": {},
   "cell_type": "markdown",
   "source": "Let us see what year received the most snowfall in the data. We shall determine that by filtering by snow_depth, as it is the closest metric to extrapolate the snowfall. I think that counting all snowy days will be al alternative, but less precise metric. Had I had more time, I would have created a separate metric likely based on precipitation."
  },
  {
   "metadata": {
    "ExecuteTime": {
     "end_time": "2025-05-20T13:07:39.188781Z",
     "start_time": "2025-05-20T13:07:39.180772Z"
    }
   },
   "cell_type": "code",
   "source": [
    "# Group by year and find the maximum snow depth for each\n",
    "max_snow_depth_per_year = df_final.groupby('year')['snow_depth'].max()\n",
    "\n",
    "# Find the year with the overall maximum snow depth\n",
    "year_with_highest_snow_depth = max_snow_depth_per_year.idxmax()\n",
    "highest_snow_depth = max_snow_depth_per_year.max()\n",
    "\n",
    "print(f\"The year with the highest recorded snow depth was {year_with_highest_snow_depth} with a maximum depth of {highest_snow_depth:.2f}.\")\n",
    "\n",
    "# Print the maximum snow depth for all years\n",
    "print(\"\\nHere is the maximum snow depth recorded per year for comparison:\")\n",
    "print(max_snow_depth_per_year)"
   ],
   "outputs": [
    {
     "name": "stdout",
     "output_type": "stream",
     "text": [
      "The year with the highest recorded snow depth was 2000 with a maximum depth of 18.10.\n",
      "\n",
      "Here is the maximum snow depth recorded per year for comparison:\n",
      "year\n",
      "2000    18.1\n",
      "2001    15.0\n",
      "2002     9.1\n",
      "2003     5.9\n",
      "2004     7.9\n",
      "2005    11.8\n",
      "2006     5.1\n",
      "2007     9.8\n",
      "2008    13.0\n",
      "2009     9.1\n",
      "2010     7.9\n",
      "Name: snow_depth, dtype: float64\n"
     ]
    }
   ],
   "execution_count": 56
  },
  {
   "metadata": {},
   "cell_type": "markdown",
   "source": "Adding an additional field that indicates the daily change in snow depth measured at every station and identifying the station and day for which the snow depth increased the most."
  },
  {
   "metadata": {
    "ExecuteTime": {
     "end_time": "2025-05-20T13:07:39.393656Z",
     "start_time": "2025-05-20T13:07:39.374654Z"
    }
   },
   "cell_type": "code",
   "source": [
    "# Sort by station and date to ensure correct calculation of daily change\n",
    "df_final = df_final.sort_values(['station_number', 'date'])\n",
    "\n",
    "# Add a new field for the daily change in snow depth\n",
    "df_final['daily_snow_depth_change'] = df_final.groupby('station_number')['snow_depth'].diff().fillna(0)\n",
    "\n",
    "# Identify the station and day with the maximum increase in snow depth\n",
    "max_increase = df_final['daily_snow_depth_change'].max()\n",
    "station_day_max_increase = df_final[df_final['daily_snow_depth_change'] == max_increase][['station_number', 'date']]\n",
    "\n",
    "if not station_day_max_increase.empty:\n",
    "    station_max = station_day_max_increase['station_number'].iloc[0]\n",
    "    date_max = station_day_max_increase['date'].iloc[0].strftime('%Y-%m-%d')\n",
    "    print(f\"The maximum daily increase in snow depth was {max_increase} at station {station_max} on {date_max}.\")\n",
    "else:\n",
    "    print(\"No increase in snow depth found in the dataset.\")"
   ],
   "outputs": [
    {
     "name": "stdout",
     "output_type": "stream",
     "text": [
      "The maximum daily increase in snow depth was 9.800000190734863 at station 725300 on 2005-01-22.\n"
     ]
    }
   ],
   "execution_count": 57
  },
  {
   "metadata": {
    "ExecuteTime": {
     "end_time": "2025-05-20T13:07:39.605306Z",
     "start_time": "2025-05-20T13:07:39.591359Z"
    }
   },
   "cell_type": "code",
   "source": [
    "df = df_final\n",
    "df.info()"
   ],
   "outputs": [
    {
     "name": "stdout",
     "output_type": "stream",
     "text": [
      "<class 'pandas.core.frame.DataFrame'>\n",
      "Index: 37415 entries, 9787 to 25033\n",
      "Data columns (total 29 columns):\n",
      " #   Column                              Non-Null Count  Dtype         \n",
      "---  ------                              --------------  -----         \n",
      " 0   date                                37415 non-null  datetime64[ns]\n",
      " 1   station_number                      37415 non-null  int64         \n",
      " 2   year                                37415 non-null  int64         \n",
      " 3   month                               37415 non-null  int64         \n",
      " 4   day                                 37415 non-null  int64         \n",
      " 5   mean_temp                           37415 non-null  float64       \n",
      " 6   num_mean_temp_samples               37415 non-null  int64         \n",
      " 7   mean_dew_point                      37406 non-null  float64       \n",
      " 8   num_mean_dew_point_samples          37406 non-null  float64       \n",
      " 9   mean_sealevel_pressure              33259 non-null  float64       \n",
      " 10  num_mean_sealevel_pressure_samples  33259 non-null  float64       \n",
      " 11  mean_station_pressure               1885 non-null   float64       \n",
      " 12  num_mean_station_pressure_samples   1885 non-null   float64       \n",
      " 13  mean_visibility                     37396 non-null  float64       \n",
      " 14  num_mean_visibility_samples         37396 non-null  float64       \n",
      " 15  mean_wind_speed                     37403 non-null  float64       \n",
      " 16  num_mean_wind_speed_samples         37403 non-null  float64       \n",
      " 17  max_sustained_wind_speed            37398 non-null  float64       \n",
      " 18  max_gust_wind_speed                 22393 non-null  float64       \n",
      " 19  max_temperature                     37412 non-null  float64       \n",
      " 20  total_precipitation                 36967 non-null  float64       \n",
      " 21  snow_depth                          1371 non-null   float64       \n",
      " 22  fog                                 37415 non-null  bool          \n",
      " 23  rain                                37415 non-null  bool          \n",
      " 24  snow                                37415 non-null  bool          \n",
      " 25  hail                                37415 non-null  bool          \n",
      " 26  thunder                             37415 non-null  bool          \n",
      " 27  tornado                             37415 non-null  bool          \n",
      " 28  daily_snow_depth_change             37415 non-null  float64       \n",
      "dtypes: bool(6), datetime64[ns](1), float64(17), int64(5)\n",
      "memory usage: 7.1 MB\n"
     ]
    }
   ],
   "execution_count": 58
  },
  {
   "metadata": {},
   "cell_type": "markdown",
   "source": "Finally, we are to clean the dataset. We will start by dealing with the missing values. There are some missing values that should be set to zero, since their absence is meaningful, others we will impute with their k-nearest neighbours. Some we will drop, and for that I am looking at the correlation between seemingly less relevant columns and target variable."
  },
  {
   "metadata": {
    "ExecuteTime": {
     "end_time": "2025-05-20T13:07:39.834654Z",
     "start_time": "2025-05-20T13:07:39.820790Z"
    }
   },
   "cell_type": "code",
   "source": [
    "correlation_temp_samples_snow = df['num_mean_temp_samples'].corr(df['snow'])\n",
    "correlation_dew_samples_snow = df['num_mean_dew_point_samples'].corr(df['snow'])\n",
    "correlation_sealevel_samples_snow = df['num_mean_sealevel_pressure_samples'].corr(df['snow'])\n",
    "correlation_pressure_samples_snow = df['num_mean_station_pressure_samples'].corr(df['snow'])\n",
    "correlation_visibility_samples_snow = df['num_mean_visibility_samples'].corr(df['snow'])\n",
    "correlation_wind_samples_snow = df['num_mean_wind_speed_samples'].corr(df['snow'])\n",
    "print(f\"Correlation (Number of observations of temperature vs Snow): {correlation_temp_samples_snow}\")\n",
    "print(f\"Correlation (Number of observations of dew points vs Snow): {correlation_dew_samples_snow}\")\n",
    "print(f\"Correlation (Number of observations of sea level pressure vs Snow): {correlation_sealevel_samples_snow}\")\n",
    "print(f\"Correlation (Number of observation of station pressure vs Snow): {correlation_pressure_samples_snow}\")\n",
    "print(f\"Correlation (Number of observations of visibility measures vs Snow): {correlation_visibility_samples_snow}\")\n",
    "print(f\"Correlation (Number of observations of wind speed vs Snow): {correlation_wind_samples_snow}\")"
   ],
   "outputs": [
    {
     "name": "stdout",
     "output_type": "stream",
     "text": [
      "Correlation (Number of observations of temperature vs Snow): 0.07143977853317758\n",
      "Correlation (Number of observations of dew points vs Snow): 0.07011868029728245\n",
      "Correlation (Number of observations of sea level pressure vs Snow): -0.19295216764353115\n",
      "Correlation (Number of observation of station pressure vs Snow): -0.08599804908551915\n",
      "Correlation (Number of observations of visibility measures vs Snow): 0.0711189042156252\n",
      "Correlation (Number of observations of wind speed vs Snow): 0.061650558808676884\n"
     ]
    }
   ],
   "execution_count": 59
  },
  {
   "metadata": {
    "ExecuteTime": {
     "end_time": "2025-05-20T13:07:40.130306Z",
     "start_time": "2025-05-20T13:07:40.114406Z"
    }
   },
   "cell_type": "code",
   "source": [
    "# Fill in fo snow depth\n",
    "df['snow_depth'] = df['snow_depth'].fillna(0.0)\n",
    "# Fill in for columns with number of samples\n",
    "num_samples_cols = [col for col in df if col.startswith('num_mean_')]\n",
    "df = df.drop(columns = num_samples_cols, axis=1)\n",
    "#for col in num_samples_cols:\n",
    "#    df[col] = df[col].fillna(0)\n",
    "\n",
    "df.info()"
   ],
   "outputs": [
    {
     "name": "stdout",
     "output_type": "stream",
     "text": [
      "<class 'pandas.core.frame.DataFrame'>\n",
      "Index: 37415 entries, 9787 to 25033\n",
      "Data columns (total 23 columns):\n",
      " #   Column                    Non-Null Count  Dtype         \n",
      "---  ------                    --------------  -----         \n",
      " 0   date                      37415 non-null  datetime64[ns]\n",
      " 1   station_number            37415 non-null  int64         \n",
      " 2   year                      37415 non-null  int64         \n",
      " 3   month                     37415 non-null  int64         \n",
      " 4   day                       37415 non-null  int64         \n",
      " 5   mean_temp                 37415 non-null  float64       \n",
      " 6   mean_dew_point            37406 non-null  float64       \n",
      " 7   mean_sealevel_pressure    33259 non-null  float64       \n",
      " 8   mean_station_pressure     1885 non-null   float64       \n",
      " 9   mean_visibility           37396 non-null  float64       \n",
      " 10  mean_wind_speed           37403 non-null  float64       \n",
      " 11  max_sustained_wind_speed  37398 non-null  float64       \n",
      " 12  max_gust_wind_speed       22393 non-null  float64       \n",
      " 13  max_temperature           37412 non-null  float64       \n",
      " 14  total_precipitation       36967 non-null  float64       \n",
      " 15  snow_depth                37415 non-null  float64       \n",
      " 16  fog                       37415 non-null  bool          \n",
      " 17  rain                      37415 non-null  bool          \n",
      " 18  snow                      37415 non-null  bool          \n",
      " 19  hail                      37415 non-null  bool          \n",
      " 20  thunder                   37415 non-null  bool          \n",
      " 21  tornado                   37415 non-null  bool          \n",
      " 22  daily_snow_depth_change   37415 non-null  float64       \n",
      "dtypes: bool(6), datetime64[ns](1), float64(12), int64(4)\n",
      "memory usage: 5.4 MB\n"
     ]
    }
   ],
   "execution_count": 60
  },
  {
   "metadata": {
    "ExecuteTime": {
     "end_time": "2025-05-20T13:07:41.254475Z",
     "start_time": "2025-05-20T13:07:40.323802Z"
    }
   },
   "cell_type": "code",
   "source": [
    "import seaborn as sns\n",
    "import matplotlib.pyplot as plt\n",
    "\n",
    "correlation_matrix = df.corr()\n",
    "\n",
    "plt.figure(figsize=(12, 10))\n",
    "sns.heatmap(correlation_matrix, annot=True, cmap='coolwarm', fmt=\".2f\", linewidths=.5)\n",
    "plt.title('Correlation Matrix of All Numerical Features')\n",
    "plt.show()"
   ],
   "outputs": [
    {
     "data": {
      "text/plain": [
       "<Figure size 1200x1000 with 2 Axes>"
      ],
      "image/png": "[encoded data removed]"
     },
     "metadata": {},
     "output_type": "display_data"
    }
   ],
   "execution_count": 61
  },
  {
   "metadata": {},
   "cell_type": "markdown",
   "source": "All remaining binary values are highly correlated, others are expected."
  },
  {
   "metadata": {},
   "cell_type": "markdown",
   "source": "Here starts the process of data normalization."
  },
  {
   "metadata": {
    "ExecuteTime": {
     "end_time": "2025-05-20T13:07:41.441070Z",
     "start_time": "2025-05-20T13:07:41.419405Z"
    }
   },
   "cell_type": "code",
   "source": [
    "# Start by splitting the data into numeric and not numeric\n",
    "df['station_number'] = df['station_number'].astype(str)\n",
    "numerical_df = df.select_dtypes(include=['number', 'bool', 'boolean']).copy()\n",
    "non_numerical_df = df.select_dtypes(exclude=['number', 'bool', 'boolean']).copy()"
   ],
   "outputs": [],
   "execution_count": 62
  },
  {
   "metadata": {
    "ExecuteTime": {
     "end_time": "2025-05-20T13:07:41.617747Z",
     "start_time": "2025-05-20T13:07:41.604771Z"
    }
   },
   "cell_type": "code",
   "source": "numerical_df.info()",
   "outputs": [
    {
     "name": "stdout",
     "output_type": "stream",
     "text": [
      "<class 'pandas.core.frame.DataFrame'>\n",
      "Index: 37415 entries, 9787 to 25033\n",
      "Data columns (total 21 columns):\n",
      " #   Column                    Non-Null Count  Dtype  \n",
      "---  ------                    --------------  -----  \n",
      " 0   year                      37415 non-null  int64  \n",
      " 1   month                     37415 non-null  int64  \n",
      " 2   day                       37415 non-null  int64  \n",
      " 3   mean_temp                 37415 non-null  float64\n",
      " 4   mean_dew_point            37406 non-null  float64\n",
      " 5   mean_sealevel_pressure    33259 non-null  float64\n",
      " 6   mean_station_pressure     1885 non-null   float64\n",
      " 7   mean_visibility           37396 non-null  float64\n",
      " 8   mean_wind_speed           37403 non-null  float64\n",
      " 9   max_sustained_wind_speed  37398 non-null  float64\n",
      " 10  max_gust_wind_speed       22393 non-null  float64\n",
      " 11  max_temperature           37412 non-null  float64\n",
      " 12  total_precipitation       36967 non-null  float64\n",
      " 13  snow_depth                37415 non-null  float64\n",
      " 14  fog                       37415 non-null  bool   \n",
      " 15  rain                      37415 non-null  bool   \n",
      " 16  snow                      37415 non-null  bool   \n",
      " 17  hail                      37415 non-null  bool   \n",
      " 18  thunder                   37415 non-null  bool   \n",
      " 19  tornado                   37415 non-null  bool   \n",
      " 20  daily_snow_depth_change   37415 non-null  float64\n",
      "dtypes: bool(6), float64(12), int64(3)\n",
      "memory usage: 4.8 MB\n"
     ]
    }
   ],
   "execution_count": 63
  },
  {
   "metadata": {
    "ExecuteTime": {
     "end_time": "2025-05-20T13:07:41.942399Z",
     "start_time": "2025-05-20T13:07:41.890288Z"
    }
   },
   "cell_type": "code",
   "source": [
    "from sklearn.preprocessing import StandardScaler\n",
    "\n",
    "scaler = StandardScaler()\n",
    "scaled_numerical_df = pd.DataFrame(scaler.fit_transform(numerical_df), columns=numerical_df.columns)\n"
   ],
   "outputs": [],
   "execution_count": 64
  },
  {
   "metadata": {
    "ExecuteTime": {
     "end_time": "2025-05-20T13:09:01.318253Z",
     "start_time": "2025-05-20T13:07:42.096282Z"
    }
   },
   "cell_type": "code",
   "source": [
    "from sklearn.impute import KNNImputer\n",
    "\n",
    "imputer = KNNImputer(n_neighbors=5)\n",
    "\n",
    "imputed_array = imputer.fit_transform(scaled_numerical_df)\n",
    "\n",
    "# Convert the imputed array back to a Pandas DataFrame\n",
    "imputed_numerical_df = pd.DataFrame(imputed_array, columns=scaled_numerical_df.columns)"
   ],
   "outputs": [],
   "execution_count": 65
  },
  {
   "metadata": {
    "ExecuteTime": {
     "end_time": "2025-05-20T13:09:01.515312Z",
     "start_time": "2025-05-20T13:09:01.497607Z"
    }
   },
   "cell_type": "code",
   "source": [
    "# Combine with non-numerical\n",
    "df_imputed = pd.concat([imputed_numerical_df, non_numerical_df], axis=1)"
   ],
   "outputs": [],
   "execution_count": 66
  },
  {
   "metadata": {
    "ExecuteTime": {
     "end_time": "2025-05-20T13:09:01.744442Z",
     "start_time": "2025-05-20T13:09:01.727654Z"
    }
   },
   "cell_type": "code",
   "source": "df_imputed.info()",
   "outputs": [
    {
     "name": "stdout",
     "output_type": "stream",
     "text": [
      "<class 'pandas.core.frame.DataFrame'>\n",
      "RangeIndex: 37415 entries, 0 to 37414\n",
      "Data columns (total 23 columns):\n",
      " #   Column                    Non-Null Count  Dtype         \n",
      "---  ------                    --------------  -----         \n",
      " 0   year                      37415 non-null  float64       \n",
      " 1   month                     37415 non-null  float64       \n",
      " 2   day                       37415 non-null  float64       \n",
      " 3   mean_temp                 37415 non-null  float64       \n",
      " 4   mean_dew_point            37415 non-null  float64       \n",
      " 5   mean_sealevel_pressure    37415 non-null  float64       \n",
      " 6   mean_station_pressure     37415 non-null  float64       \n",
      " 7   mean_visibility           37415 non-null  float64       \n",
      " 8   mean_wind_speed           37415 non-null  float64       \n",
      " 9   max_sustained_wind_speed  37415 non-null  float64       \n",
      " 10  max_gust_wind_speed       37415 non-null  float64       \n",
      " 11  max_temperature           37415 non-null  float64       \n",
      " 12  total_precipitation       37415 non-null  float64       \n",
      " 13  snow_depth                37415 non-null  float64       \n",
      " 14  fog                       37415 non-null  float64       \n",
      " 15  rain                      37415 non-null  float64       \n",
      " 16  snow                      37415 non-null  float64       \n",
      " 17  hail                      37415 non-null  float64       \n",
      " 18  thunder                   37415 non-null  float64       \n",
      " 19  tornado                   37415 non-null  float64       \n",
      " 20  daily_snow_depth_change   37415 non-null  float64       \n",
      " 21  date                      37415 non-null  datetime64[ns]\n",
      " 22  station_number            37415 non-null  object        \n",
      "dtypes: datetime64[ns](1), float64(21), object(1)\n",
      "memory usage: 6.6+ MB\n"
     ]
    }
   ],
   "execution_count": 67
  },
  {
   "metadata": {
    "ExecuteTime": {
     "end_time": "2025-05-20T13:09:01.974954Z",
     "start_time": "2025-05-20T13:09:01.959452Z"
    }
   },
   "cell_type": "code",
   "source": [
    "#Verify that the data is clean\n",
    "print(df_imputed.isnull().sum())"
   ],
   "outputs": [
    {
     "name": "stdout",
     "output_type": "stream",
     "text": [
      "year                        0\n",
      "month                       0\n",
      "day                         0\n",
      "mean_temp                   0\n",
      "mean_dew_point              0\n",
      "mean_sealevel_pressure      0\n",
      "mean_station_pressure       0\n",
      "mean_visibility             0\n",
      "mean_wind_speed             0\n",
      "max_sustained_wind_speed    0\n",
      "max_gust_wind_speed         0\n",
      "max_temperature             0\n",
      "total_precipitation         0\n",
      "snow_depth                  0\n",
      "fog                         0\n",
      "rain                        0\n",
      "snow                        0\n",
      "hail                        0\n",
      "thunder                     0\n",
      "tornado                     0\n",
      "daily_snow_depth_change     0\n",
      "date                        0\n",
      "station_number              0\n",
      "dtype: int64\n"
     ]
    }
   ],
   "execution_count": 68
  },
  {
   "metadata": {
    "ExecuteTime": {
     "end_time": "2025-05-20T13:09:02.207814Z",
     "start_time": "2025-05-20T13:09:02.186808Z"
    }
   },
   "cell_type": "code",
   "source": [
    "df = df_imputed\n",
    "df['station_number'] = df['station_number'].astype(float)\n",
    "df.info()"
   ],
   "outputs": [
    {
     "name": "stdout",
     "output_type": "stream",
     "text": [
      "<class 'pandas.core.frame.DataFrame'>\n",
      "RangeIndex: 37415 entries, 0 to 37414\n",
      "Data columns (total 23 columns):\n",
      " #   Column                    Non-Null Count  Dtype         \n",
      "---  ------                    --------------  -----         \n",
      " 0   year                      37415 non-null  float64       \n",
      " 1   month                     37415 non-null  float64       \n",
      " 2   day                       37415 non-null  float64       \n",
      " 3   mean_temp                 37415 non-null  float64       \n",
      " 4   mean_dew_point            37415 non-null  float64       \n",
      " 5   mean_sealevel_pressure    37415 non-null  float64       \n",
      " 6   mean_station_pressure     37415 non-null  float64       \n",
      " 7   mean_visibility           37415 non-null  float64       \n",
      " 8   mean_wind_speed           37415 non-null  float64       \n",
      " 9   max_sustained_wind_speed  37415 non-null  float64       \n",
      " 10  max_gust_wind_speed       37415 non-null  float64       \n",
      " 11  max_temperature           37415 non-null  float64       \n",
      " 12  total_precipitation       37415 non-null  float64       \n",
      " 13  snow_depth                37415 non-null  float64       \n",
      " 14  fog                       37415 non-null  float64       \n",
      " 15  rain                      37415 non-null  float64       \n",
      " 16  snow                      37415 non-null  float64       \n",
      " 17  hail                      37415 non-null  float64       \n",
      " 18  thunder                   37415 non-null  float64       \n",
      " 19  tornado                   37415 non-null  float64       \n",
      " 20  daily_snow_depth_change   37415 non-null  float64       \n",
      " 21  date                      37415 non-null  datetime64[ns]\n",
      " 22  station_number            37415 non-null  float64       \n",
      "dtypes: datetime64[ns](1), float64(22)\n",
      "memory usage: 6.6 MB\n"
     ]
    }
   ],
   "execution_count": 69
  },
  {
   "cell_type": "markdown",
   "metadata": {},
   "source": "## Part 2"
  },
  {
   "metadata": {},
   "cell_type": "markdown",
   "source": [
    "We want to train a classification model for a specific date. For this, we would need to define a prediction window. For the date and each station we would need to extract the weather data, train a classifiction model, and make a prediction.\n",
    "\n",
    "Moreover, the dataset is most likely biased towards no snow condition, that should be remedied by introducing the weights."
   ]
  },
  {
   "cell_type": "code",
   "metadata": {
    "ExecuteTime": {
     "end_time": "2025-05-20T13:09:02.416035Z",
     "start_time": "2025-05-20T13:09:02.412269Z"
    }
   },
   "source": [
    "import datetime as dt\n",
    "import pandas as pd\n",
    "from sklearn.linear_model import LogisticRegression\n",
    "from sklearn.metrics import accuracy_score, classification_report\n"
   ],
   "outputs": [],
   "execution_count": 70
  },
  {
   "metadata": {
    "ExecuteTime": {
     "end_time": "2025-05-20T13:09:02.743473Z",
     "start_time": "2025-05-20T13:09:02.589502Z"
    }
   },
   "cell_type": "code",
   "source": [
    "# The most crucial step for defining a prediction window, creating lagged days\n",
    "lag_days = 3\n",
    "numerical_features = [\"mean_temp\",\"mean_dew_point\", \"mean_sealevel_pressure\", \"mean_station_pressure\", \"mean_visibility\", \"mean_wind_speed\", \"max_sustained_wind_speed\",\"max_gust_wind_speed\",\"max_temperature\", \"total_precipitation\", \"snow_depth\", \"fog\", \"rain\", \"hail\", \"thunder\", \"tornado\", \"daily_snow_depth_change\"]\n",
    "lagged_features_list = []\n",
    "\n",
    "for feature in numerical_features:\n",
    "    for i in range(1, lag_days + 1):\n",
    "        lagged_col = df.groupby('station_number')[feature].shift(i).rename(f'{feature}_lag{i}')\n",
    "        lagged_features_list.append(lagged_col)\n",
    "\n",
    "# Concatenate all the lagged feature into the original df\n",
    "df = pd.concat([df, *lagged_features_list], axis=1)\n",
    "df_prepared = df\n",
    "# Dropping NaN values\n",
    "df_prepared = df.dropna(subset=[f'{f}_lag{i}' for f in numerical_features for i in range(1, lag_days + 1)] + ['snow'])\n"
   ],
   "outputs": [],
   "execution_count": 71
  },
  {
   "metadata": {
    "ExecuteTime": {
     "end_time": "2025-05-20T13:09:02.937460Z",
     "start_time": "2025-05-20T13:09:02.917836Z"
    }
   },
   "cell_type": "code",
   "source": "df_prepared.info()",
   "outputs": [
    {
     "name": "stdout",
     "output_type": "stream",
     "text": [
      "<class 'pandas.core.frame.DataFrame'>\n",
      "Index: 37385 entries, 9 to 37414\n",
      "Data columns (total 74 columns):\n",
      " #   Column                         Non-Null Count  Dtype         \n",
      "---  ------                         --------------  -----         \n",
      " 0   year                           37385 non-null  float64       \n",
      " 1   month                          37385 non-null  float64       \n",
      " 2   day                            37385 non-null  float64       \n",
      " 3   mean_temp                      37385 non-null  float64       \n",
      " 4   mean_dew_point                 37385 non-null  float64       \n",
      " 5   mean_sealevel_pressure         37385 non-null  float64       \n",
      " 6   mean_station_pressure          37385 non-null  float64       \n",
      " 7   mean_visibility                37385 non-null  float64       \n",
      " 8   mean_wind_speed                37385 non-null  float64       \n",
      " 9   max_sustained_wind_speed       37385 non-null  float64       \n",
      " 10  max_gust_wind_speed            37385 non-null  float64       \n",
      " 11  max_temperature                37385 non-null  float64       \n",
      " 12  total_precipitation            37385 non-null  float64       \n",
      " 13  snow_depth                     37385 non-null  float64       \n",
      " 14  fog                            37385 non-null  float64       \n",
      " 15  rain                           37385 non-null  float64       \n",
      " 16  snow                           37385 non-null  float64       \n",
      " 17  hail                           37385 non-null  float64       \n",
      " 18  thunder                        37385 non-null  float64       \n",
      " 19  tornado                        37385 non-null  float64       \n",
      " 20  daily_snow_depth_change        37385 non-null  float64       \n",
      " 21  date                           37385 non-null  datetime64[ns]\n",
      " 22  station_number                 37385 non-null  float64       \n",
      " 23  mean_temp_lag1                 37385 non-null  float64       \n",
      " 24  mean_temp_lag2                 37385 non-null  float64       \n",
      " 25  mean_temp_lag3                 37385 non-null  float64       \n",
      " 26  mean_dew_point_lag1            37385 non-null  float64       \n",
      " 27  mean_dew_point_lag2            37385 non-null  float64       \n",
      " 28  mean_dew_point_lag3            37385 non-null  float64       \n",
      " 29  mean_sealevel_pressure_lag1    37385 non-null  float64       \n",
      " 30  mean_sealevel_pressure_lag2    37385 non-null  float64       \n",
      " 31  mean_sealevel_pressure_lag3    37385 non-null  float64       \n",
      " 32  mean_station_pressure_lag1     37385 non-null  float64       \n",
      " 33  mean_station_pressure_lag2     37385 non-null  float64       \n",
      " 34  mean_station_pressure_lag3     37385 non-null  float64       \n",
      " 35  mean_visibility_lag1           37385 non-null  float64       \n",
      " 36  mean_visibility_lag2           37385 non-null  float64       \n",
      " 37  mean_visibility_lag3           37385 non-null  float64       \n",
      " 38  mean_wind_speed_lag1           37385 non-null  float64       \n",
      " 39  mean_wind_speed_lag2           37385 non-null  float64       \n",
      " 40  mean_wind_speed_lag3           37385 non-null  float64       \n",
      " 41  max_sustained_wind_speed_lag1  37385 non-null  float64       \n",
      " 42  max_sustained_wind_speed_lag2  37385 non-null  float64       \n",
      " 43  max_sustained_wind_speed_lag3  37385 non-null  float64       \n",
      " 44  max_gust_wind_speed_lag1       37385 non-null  float64       \n",
      " 45  max_gust_wind_speed_lag2       37385 non-null  float64       \n",
      " 46  max_gust_wind_speed_lag3       37385 non-null  float64       \n",
      " 47  max_temperature_lag1           37385 non-null  float64       \n",
      " 48  max_temperature_lag2           37385 non-null  float64       \n",
      " 49  max_temperature_lag3           37385 non-null  float64       \n",
      " 50  total_precipitation_lag1       37385 non-null  float64       \n",
      " 51  total_precipitation_lag2       37385 non-null  float64       \n",
      " 52  total_precipitation_lag3       37385 non-null  float64       \n",
      " 53  snow_depth_lag1                37385 non-null  float64       \n",
      " 54  snow_depth_lag2                37385 non-null  float64       \n",
      " 55  snow_depth_lag3                37385 non-null  float64       \n",
      " 56  fog_lag1                       37385 non-null  float64       \n",
      " 57  fog_lag2                       37385 non-null  float64       \n",
      " 58  fog_lag3                       37385 non-null  float64       \n",
      " 59  rain_lag1                      37385 non-null  float64       \n",
      " 60  rain_lag2                      37385 non-null  float64       \n",
      " 61  rain_lag3                      37385 non-null  float64       \n",
      " 62  hail_lag1                      37385 non-null  float64       \n",
      " 63  hail_lag2                      37385 non-null  float64       \n",
      " 64  hail_lag3                      37385 non-null  float64       \n",
      " 65  thunder_lag1                   37385 non-null  float64       \n",
      " 66  thunder_lag2                   37385 non-null  float64       \n",
      " 67  thunder_lag3                   37385 non-null  float64       \n",
      " 68  tornado_lag1                   37385 non-null  float64       \n",
      " 69  tornado_lag2                   37385 non-null  float64       \n",
      " 70  tornado_lag3                   37385 non-null  float64       \n",
      " 71  daily_snow_depth_change_lag1   37385 non-null  float64       \n",
      " 72  daily_snow_depth_change_lag2   37385 non-null  float64       \n",
      " 73  daily_snow_depth_change_lag3   37385 non-null  float64       \n",
      "dtypes: datetime64[ns](1), float64(73)\n",
      "memory usage: 21.4 MB\n"
     ]
    }
   ],
   "execution_count": 72
  },
  {
   "metadata": {
    "ExecuteTime": {
     "end_time": "2025-05-20T13:09:03.320634Z",
     "start_time": "2025-05-20T13:09:03.181969Z"
    }
   },
   "cell_type": "code",
   "source": [
    "# Define the target date as in the assignment. I leave it like that since I am not sure whether you wanted a more precise target date.\n",
    "target_date = dt.datetime.today() - dt.timedelta(days=20 * 365)\n",
    "target_year = target_date.year\n",
    "target_month = target_date.month\n",
    "target_day = target_date.day\n",
    "\n",
    "print(f\"Target date for test set: {target_date.strftime('%Y-%m-%d')}\")\n",
    "\n",
    "# Split into tets set (just ine date) and the rest\n",
    "df_test = df_prepared[df_prepared['date'].dt.date == target_date.date()].copy()\n",
    "df_train_eval = df_prepared[df_prepared['date'].dt.date != target_date.date()].copy()\n",
    "\n",
    "# Make sure the sets are of the same shape\n",
    "print(f\"Shape of df_test: {df_test.shape}\")\n",
    "print(f\"Shape of df_train_eval: {df_train_eval.shape}\")\n",
    "\n",
    "# Create date column for the chronological split\n",
    "\n",
    "df_train_eval = df_train_eval.sort_values('date')\n",
    "\n",
    "# Split into training and evaluation sets\n",
    "train_size = int(0.8 * len(df_train_eval))\n",
    "df_train = df_train_eval.iloc[:train_size].drop(columns=['date'], errors='ignore').copy()\n",
    "df_eval = df_train_eval.iloc[train_size:].drop(columns=['date'], errors='ignore').copy()\n",
    "\n",
    "# Define features and target\n",
    "\n",
    "X_train = df_train.drop(columns=['snow', 'date', 'year', 'month', 'day'], errors='ignore')\n",
    "y_train = df_train['snow'].astype(int)\n",
    "X_eval = df_eval.drop(columns=['snow', 'date', 'year', 'month', 'day'], errors='ignore')\n",
    "y_eval = df_eval['snow'].astype(int)\n",
    "X_test = df_test.drop(columns=['snow', 'date', 'year', 'month', 'day'], errors='ignore')\n",
    "y_test = df_test['snow'].astype(int)"
   ],
   "outputs": [
    {
     "name": "stdout",
     "output_type": "stream",
     "text": [
      "Target date for test set: 2005-05-25\n",
      "Shape of df_test: (10, 74)\n",
      "Shape of df_train_eval: (37375, 74)\n"
     ]
    }
   ],
   "execution_count": 73
  },
  {
   "metadata": {
    "ExecuteTime": {
     "end_time": "2025-05-20T13:09:04.178221Z",
     "start_time": "2025-05-20T13:09:03.518232Z"
    }
   },
   "cell_type": "code",
   "source": [
    "# Training and evaluation\n",
    "model = LogisticRegression(random_state=42, class_weight='balanced', solver='liblinear') # Balancing the dataset\n",
    "model.fit(X_train, y_train)\n",
    "\n",
    "y_pred_eval = model.predict(X_eval)\n",
    "print(\"Evaluation Set Performance:\")\n",
    "print(f\"Accuracy: {accuracy_score(y_eval, y_pred_eval):.4f}\")\n",
    "print(classification_report(y_eval, y_pred_eval, zero_division=0))\n",
    "\n",
    "# Make predictions\n",
    "prediction = model.predict(X_test)\n",
    "\n",
    "# Convert the array to series\n",
    "prediction_series = pd.Series(prediction, index=y_test.index, name='predicted')\n",
    "\n",
    "# Concatenate the series for a final result table\n",
    "df_concatenated = pd.concat([y_test, prediction_series, X_test[\"station_number\"].astype(int)], axis=1).iloc[:10].copy()\n",
    "print(df_concatenated)"
   ],
   "outputs": [
    {
     "name": "stdout",
     "output_type": "stream",
     "text": [
      "Evaluation Set Performance:\n",
      "Accuracy: 1.0000\n",
      "              precision    recall  f1-score   support\n",
      "\n",
      "           0       1.00      1.00      1.00      6446\n",
      "           2       1.00      1.00      1.00      1029\n",
      "\n",
      "    accuracy                           1.00      7475\n",
      "   macro avg       1.00      1.00      1.00      7475\n",
      "weighted avg       1.00      1.00      1.00      7475\n",
      "\n",
      "       snow  predicted  station_number\n",
      "519       0          0          725314\n",
      "863       2          2          725317\n",
      "2492      0          0          725320\n",
      "7703      0          0          725305\n",
      "13588     0          0          725300\n",
      "22031     2          2          725330\n",
      "22644     2          2          725326\n",
      "26829     0          0          725316\n",
      "29083     0          0          725327\n",
      "30072     0          0          725315\n"
     ]
    }
   ],
   "execution_count": 74
  },
  {
   "metadata": {},
   "cell_type": "markdown",
   "source": [
    "The results ended up being accurate, but too overfit. A logistic regression was a good starting point, but for a model that would be able to generalize well it is likely not the best choice. I have also considered tree-based algorithms for they handle categorical data as features better, but since I have not implemented the features I wanted I have left the intended comparison at that. Also, now it seems that the highly correlated features would not allow for a better fit.\n",
    "\n",
    "I have not scaled back the features and the prediction for the interpretation. I have not included some of the planned features like encoding of categorical features, rolling statistics for the time window or potential merging with geospatial data for a lack of time.\n",
    "\n",
    "For an improved approach additional features and full dataset should be utilized and different algorithms like neural networks should be taken into consideration for they handle temporal dependencies better."
   ]
  }
 ],
 "metadata": {
  "kernelspec": {
   "display_name": "Python [conda env:base] *",
   "language": "python",
   "name": "conda-base-py"
  },
  "language_info": {
   "codemirror_mode": {
    "name": "ipython",
    "version": 3
   },
   "file_extension": ".py",
   "mimetype": "text/x-python",
   "name": "python",
   "nbconvert_exporter": "python",
   "pygments_lexer": "ipython3",
   "version": "3.12.9"
  }
 },
 "nbformat": 4,
 "nbformat_minor": 4
}
